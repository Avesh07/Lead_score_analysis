{
 "cells": [
  {
   "cell_type": "markdown",
   "metadata": {},
   "source": [
    "## LEAD SCORE ANALYSIS\n",
    "### Objective:\n",
    "- Conduct data cleaning and preparation for effective analysis.\n",
    "- Build, tune, and evaluate models to predict lead conversion.\n",
    "- Provide actionable insights based on model results."
   ]
  },
  {
   "cell_type": "markdown",
   "metadata": {},
   "source": [
    "# Step 1: Importing Libraries\n",
    "Import required libraries for data manipulation, visualization, model building, and evaluation."
   ]
  },
  {
   "cell_type": "code",
   "execution_count": 23,
   "metadata": {},
   "outputs": [],
   "source": [
    "import numpy as np\n",
    "import pandas as pd\n",
    "import seaborn as sns\n",
    "import matplotlib.pyplot as plt\n",
    "from sklearn.model_selection import train_test_split, GridSearchCV\n",
    "from sklearn.preprocessing import StandardScaler\n",
    "from sklearn.linear_model import LogisticRegression\n",
    "from sklearn.svm import SVC\n",
    "from sklearn.ensemble import RandomForestClassifier\n",
    "from sklearn.metrics import accuracy_score, precision_score, recall_score, classification_report\n",
    "from sklearn.impute import SimpleImputer"
   ]
  },
  {
   "cell_type": "markdown",
   "metadata": {},
   "source": [
    "# Step 2: Load the Dataset\n",
    "Load the CSV file into a pandas DataFrame for analysis and exploration."
   ]
  },
  {
   "cell_type": "code",
   "execution_count": 24,
   "metadata": {},
   "outputs": [],
   "source": [
    "file_path = 'c:/Users/gupta/OneDrive/Desktop/Lead Scoring Assignment/Leads.csv'\n",
    "leads_data = pd.read_csv(file_path)"
   ]
  },
  {
   "cell_type": "markdown",
   "metadata": {},
   "source": [
    "# Step 3: Basic Exploration\n",
    "Display the initial structure of the dataset and check for duplicates."
   ]
  },
  {
   "cell_type": "code",
   "execution_count": 25,
   "metadata": {},
   "outputs": [
    {
     "name": "stdout",
     "output_type": "stream",
     "text": [
      "Initial Dataset Shape: (9240, 37)\n",
      "<class 'pandas.core.frame.DataFrame'>\n",
      "RangeIndex: 9240 entries, 0 to 9239\n",
      "Data columns (total 37 columns):\n",
      " #   Column                                         Non-Null Count  Dtype  \n",
      "---  ------                                         --------------  -----  \n",
      " 0   Prospect ID                                    9240 non-null   object \n",
      " 1   Lead Number                                    9240 non-null   int64  \n",
      " 2   Lead Origin                                    9240 non-null   object \n",
      " 3   Lead Source                                    9204 non-null   object \n",
      " 4   Do Not Email                                   9240 non-null   object \n",
      " 5   Do Not Call                                    9240 non-null   object \n",
      " 6   Converted                                      9240 non-null   int64  \n",
      " 7   TotalVisits                                    9103 non-null   float64\n",
      " 8   Total Time Spent on Website                    9240 non-null   int64  \n",
      " 9   Page Views Per Visit                           9103 non-null   float64\n",
      " 10  Last Activity                                  9137 non-null   object \n",
      " 11  Country                                        6779 non-null   object \n",
      " 12  Specialization                                 7802 non-null   object \n",
      " 13  How did you hear about X Education             7033 non-null   object \n",
      " 14  What is your current occupation                6550 non-null   object \n",
      " 15  What matters most to you in choosing a course  6531 non-null   object \n",
      " 16  Search                                         9240 non-null   object \n",
      " 17  Magazine                                       9240 non-null   object \n",
      " 18  Newspaper Article                              9240 non-null   object \n",
      " 19  X Education Forums                             9240 non-null   object \n",
      " 20  Newspaper                                      9240 non-null   object \n",
      " 21  Digital Advertisement                          9240 non-null   object \n",
      " 22  Through Recommendations                        9240 non-null   object \n",
      " 23  Receive More Updates About Our Courses         9240 non-null   object \n",
      " 24  Tags                                           5887 non-null   object \n",
      " 25  Lead Quality                                   4473 non-null   object \n",
      " 26  Update me on Supply Chain Content              9240 non-null   object \n",
      " 27  Get updates on DM Content                      9240 non-null   object \n",
      " 28  Lead Profile                                   6531 non-null   object \n",
      " 29  City                                           7820 non-null   object \n",
      " 30  Asymmetrique Activity Index                    5022 non-null   object \n",
      " 31  Asymmetrique Profile Index                     5022 non-null   object \n",
      " 32  Asymmetrique Activity Score                    5022 non-null   float64\n",
      " 33  Asymmetrique Profile Score                     5022 non-null   float64\n",
      " 34  I agree to pay the amount through cheque       9240 non-null   object \n",
      " 35  A free copy of Mastering The Interview         9240 non-null   object \n",
      " 36  Last Notable Activity                          9240 non-null   object \n",
      "dtypes: float64(4), int64(3), object(30)\n",
      "memory usage: 2.6+ MB\n",
      "\n",
      "Duplicate rows in dataset: 0\n"
     ]
    }
   ],
   "source": [
    "print(\"Initial Dataset Shape:\", leads_data.shape)  # Rows and columns\n",
    "leads_data.info()  # Information about data types and non-null values\n",
    "print(\"\\nDuplicate rows in dataset:\", leads_data.duplicated().sum())  # Count duplicate rows"
   ]
  },
  {
   "cell_type": "markdown",
   "metadata": {},
   "source": [
    "# Step 4: Missing Value Analysis\n",
    "Analyze missing values in the dataset to decide on handling strategies."
   ]
  },
  {
   "cell_type": "code",
   "execution_count": 26,
   "metadata": {},
   "outputs": [
    {
     "name": "stdout",
     "output_type": "stream",
     "text": [
      "\n",
      "Missing Values Analysis:\n",
      "                                               Missing Values  Percentage (%)\n",
      "Lead Quality                                             4767       51.590909\n",
      "Asymmetrique Profile Index                               4218       45.649351\n",
      "Asymmetrique Activity Score                              4218       45.649351\n",
      "Asymmetrique Activity Index                              4218       45.649351\n",
      "Asymmetrique Profile Score                               4218       45.649351\n",
      "Tags                                                     3353       36.287879\n",
      "What matters most to you in choosing a course            2709       29.318182\n",
      "Lead Profile                                             2709       29.318182\n",
      "What is your current occupation                          2690       29.112554\n",
      "Country                                                  2461       26.634199\n",
      "How did you hear about X Education                       2207       23.885281\n",
      "Specialization                                           1438       15.562771\n",
      "City                                                     1420       15.367965\n",
      "Page Views Per Visit                                      137        1.482684\n",
      "TotalVisits                                               137        1.482684\n",
      "Last Activity                                             103        1.114719\n",
      "Lead Source                                                36        0.389610\n",
      "Do Not Email                                                0        0.000000\n",
      "Lead Origin                                                 0        0.000000\n",
      "Lead Number                                                 0        0.000000\n",
      "Prospect ID                                                 0        0.000000\n",
      "Newspaper                                                   0        0.000000\n",
      "X Education Forums                                          0        0.000000\n",
      "Newspaper Article                                           0        0.000000\n",
      "Magazine                                                    0        0.000000\n",
      "Search                                                      0        0.000000\n",
      "Total Time Spent on Website                                 0        0.000000\n",
      "Do Not Call                                                 0        0.000000\n",
      "Converted                                                   0        0.000000\n",
      "Get updates on DM Content                                   0        0.000000\n",
      "Update me on Supply Chain Content                           0        0.000000\n",
      "Through Recommendations                                     0        0.000000\n",
      "Receive More Updates About Our Courses                      0        0.000000\n",
      "Digital Advertisement                                       0        0.000000\n",
      "I agree to pay the amount through cheque                    0        0.000000\n",
      "A free copy of Mastering The Interview                      0        0.000000\n",
      "Last Notable Activity                                       0        0.000000\n"
     ]
    }
   ],
   "source": [
    "missing_values = leads_data.isnull().sum()\n",
    "missing_percentage = (missing_values / len(leads_data)) * 100\n",
    "\n",
    "# Display missing value percentages for all columns.\n",
    "print(\"\\nMissing Values Analysis:\")\n",
    "print(pd.DataFrame({\"Missing Values\": missing_values, \"Percentage (%)\": missing_percentage}).sort_values(by=\"Percentage (%)\", ascending=False))\n"
   ]
  },
  {
   "cell_type": "markdown",
   "metadata": {},
   "source": [
    "# Step 6: Drop Columns with High Missing Values\n",
    "Drop columns with more than 25% missing values as they may lack sufficient information for modeling."
   ]
  },
  {
   "cell_type": "code",
   "execution_count": 27,
   "metadata": {},
   "outputs": [
    {
     "name": "stdout",
     "output_type": "stream",
     "text": [
      "\n",
      "Dropped columns with more than 25% missing values.\n"
     ]
    }
   ],
   "source": [
    "threshold = 25  # Threshold for missing value percentage\n",
    "columns_to_drop = missing_values[missing_percentage > threshold].index\n",
    "leads_data.drop(columns=columns_to_drop, inplace=True)  # Drop high-null columns\n",
    "print(\"\\nDropped columns with more than 25% missing values.\")"
   ]
  },
  {
   "cell_type": "markdown",
   "metadata": {},
   "source": [
    "# Step 7: Handle Missing Values\n",
    "Fill missing numerical values with the median to maintain central tendency and avoid skewness."
   ]
  },
  {
   "cell_type": "code",
   "execution_count": 28,
   "metadata": {},
   "outputs": [
    {
     "name": "stdout",
     "output_type": "stream",
     "text": [
      "\n",
      "Missing Values Analysis:\n",
      "                                          Missing Values  Percentage (%)\n",
      "How did you hear about X Education                  2207       23.885281\n",
      "Specialization                                      1438       15.562771\n",
      "City                                                1420       15.367965\n",
      "TotalVisits                                          137        1.482684\n",
      "Page Views Per Visit                                 137        1.482684\n",
      "Last Activity                                        103        1.114719\n",
      "Lead Source                                           36        0.389610\n",
      "Converted                                              0        0.000000\n",
      "Lead Origin                                            0        0.000000\n",
      "Prospect ID                                            0        0.000000\n",
      "Lead Number                                            0        0.000000\n",
      "Total Time Spent on Website                            0        0.000000\n",
      "Do Not Email                                           0        0.000000\n",
      "Do Not Call                                            0        0.000000\n",
      "Search                                                 0        0.000000\n",
      "Newspaper Article                                      0        0.000000\n",
      "X Education Forums                                     0        0.000000\n",
      "Newspaper                                              0        0.000000\n",
      "Magazine                                               0        0.000000\n",
      "Digital Advertisement                                  0        0.000000\n",
      "Through Recommendations                                0        0.000000\n",
      "Update me on Supply Chain Content                      0        0.000000\n",
      "Receive More Updates About Our Courses                 0        0.000000\n",
      "Get updates on DM Content                              0        0.000000\n",
      "I agree to pay the amount through cheque               0        0.000000\n",
      "A free copy of Mastering The Interview                 0        0.000000\n",
      "Last Notable Activity                                  0        0.000000\n"
     ]
    }
   ],
   "source": [
    "# Check for missing values\n",
    "missing_values = leads_data.isnull().sum()\n",
    "missing_percentage = (missing_values / len(leads_data)) * 100\n",
    "\n",
    "# Display columns with missing values and their percentages\n",
    "print(\"\\nMissing Values Analysis:\")\n",
    "print(pd.DataFrame({\"Missing Values\": missing_values, \"Percentage (%)\": missing_percentage}).sort_values(by=\"Percentage (%)\", ascending=False))\n",
    "\n",
    "# Replace 'Select' in categorical columns with NaN\n",
    "categorical_cols = leads_data.select_dtypes(include=['object']).columns\n",
    "for col in categorical_cols:\n",
    "    leads_data[col] = leads_data[col].replace('Select', np.nan)"
   ]
  },
  {
   "cell_type": "markdown",
   "metadata": {},
   "source": [
    "# Step 8: Handle High-Cardinality Columns\n",
    "Identify categorical columns with too many unique values, which can lead to a large number of dummy variables."
   ]
  },
  {
   "cell_type": "code",
   "execution_count": 29,
   "metadata": {},
   "outputs": [
    {
     "name": "stdout",
     "output_type": "stream",
     "text": [
      "\n",
      "High Cardinality Columns: ['Prospect ID']\n",
      "\n",
      "Transformed Dataset Shape: (9240, 99)\n"
     ]
    }
   ],
   "source": [
    "high_cardinality_cols = [col for col in categorical_cols if leads_data[col].nunique() > 50]\n",
    "print(\"\\nHigh Cardinality Columns:\", high_cardinality_cols)\n",
    "\n",
    "# Exclude high-cardinality columns only if irrelevant for analysis.\n",
    "irrelevant_cols = ['Prospect ID']  # Add other irrelevant columns, if needed\n",
    "leads_data.drop(columns=irrelevant_cols, inplace=True)\n",
    "\n",
    "# Perform one-hot encoding for remaining categorical columns with manageable levels.\n",
    "low_cardinality_cols = [col for col in categorical_cols if col not in high_cardinality_cols]\n",
    "leads_data_dummies = pd.get_dummies(leads_data, columns=low_cardinality_cols, drop_first=True)\n",
    "print(\"\\nTransformed Dataset Shape:\", leads_data_dummies.shape)  # Shape after encoding"
   ]
  },
  {
   "cell_type": "markdown",
   "metadata": {},
   "source": [
    "# Step 9: Split the Dataset\n",
    "Separate features (X) and target variable (y) for model building."
   ]
  },
  {
   "cell_type": "code",
   "execution_count": 30,
   "metadata": {},
   "outputs": [],
   "source": [
    "X = leads_data_dummies.drop(columns=['Converted'], axis=1, errors='ignore')  # Drop target variable\n",
    "y = leads_data_dummies['Converted']  # Target variable\n",
    "\n",
    "# Split the dataset into training and testing sets for model evaluation.\n",
    "X_train, X_test, y_train, y_test = train_test_split(X, y, test_size=0.2, random_state=42)"
   ]
  },
  {
   "cell_type": "markdown",
   "metadata": {},
   "source": [
    "# Step 10: Scale Features\n",
    "Standardize numerical features to normalize scales for better model performance."
   ]
  },
  {
   "cell_type": "code",
   "execution_count": 31,
   "metadata": {},
   "outputs": [],
   "source": [
    "scaler = StandardScaler()\n",
    "X_train = scaler.fit_transform(X_train)  # Fit scaler on training data\n",
    "X_test = scaler.transform(X_test)  # Apply scaler to testing data"
   ]
  },
  {
   "cell_type": "markdown",
   "metadata": {},
   "source": [
    "# Step 11: Define Models and Hyperparameters\n",
    "Set up machine learning models and define hyperparameters for tuning."
   ]
  },
  {
   "cell_type": "code",
   "execution_count": 32,
   "metadata": {},
   "outputs": [],
   "source": [
    "models = {\n",
    "    \"Logistic Regression\": {\n",
    "        \"model\": LogisticRegression(max_iter=1000),\n",
    "        \"params\": {\"C\": [0.1, 1, 10], \"solver\": ['lbfgs']}\n",
    "    },\n",
    "    \"Random Forest\": {\n",
    "        \"model\": RandomForestClassifier(),\n",
    "        \"params\": {\"n_estimators\": [100, 200], \"max_depth\": [None, 10]}\n",
    "    },\n",
    "    \"SVM\": {\n",
    "        \"model\": SVC(probability=True),  # Enable probability predictions for scoring\n",
    "        \"params\": {\"C\": [0.1, 1, 10], \"kernel\": ['linear', 'rbf']}\n",
    "    }\n",
    "}"
   ]
  },
  {
   "cell_type": "markdown",
   "metadata": {},
   "source": [
    "# Step 12: Train and Tune Models\n",
    "Use GridSearchCV to find the best hyperparameters for each model."
   ]
  },
  {
   "cell_type": "code",
   "execution_count": 33,
   "metadata": {},
   "outputs": [
    {
     "name": "stdout",
     "output_type": "stream",
     "text": [
      "\n",
      "Tuning Logistic Regression...\n",
      "Best Parameters for Logistic Regression: {'C': 0.1, 'solver': 'lbfgs'}\n",
      "Sample Lead Scores (Logistic Regression):\n",
      " [19.07325604  4.76652528  0.48842095  7.26152    22.48890417  8.83022246\n",
      " 84.69089353 13.80516828 29.1869756  90.22379578]\n",
      "\n",
      "Tuning Random Forest...\n",
      "Best Parameters for Random Forest: {'max_depth': 10, 'n_estimators': 200}\n",
      "\n",
      "Tuning SVM...\n",
      "Best Parameters for SVM: {'C': 0.1, 'kernel': 'linear'}\n",
      "Sample Lead Scores (SVM):\n",
      " [19.31084063  4.77488046  0.41451372  7.80343698 17.24759948 16.01107688\n",
      " 82.61895559 14.42010886 30.64754317 85.79467922]\n",
      "\n",
      "Model Performance Summary:\n",
      "\n",
      "Logistic Regression Results:\n",
      "  Best Parameters: {'C': 0.1, 'solver': 'lbfgs'}\n",
      "  Accuracy: 0.8009\n",
      "  Precision: 0.7847\n",
      "  Recall: 0.6937\n",
      "\n",
      "Random Forest Results:\n",
      "  Best Parameters: {'max_depth': 10, 'n_estimators': 200}\n",
      "  Accuracy: 0.8182\n",
      "  Precision: 0.8199\n",
      "  Recall: 0.7004\n",
      "\n",
      "SVM Results:\n",
      "  Best Parameters: {'C': 0.1, 'kernel': 'linear'}\n",
      "  Accuracy: 0.8019\n",
      "  Precision: 0.7667\n",
      "  Recall: 0.7274\n"
     ]
    }
   ],
   "source": [
    "\n",
    "\n",
    "# Step 1: Handle Missing Values\n",
    "# Impute missing values for numerical features in X_train and X_test\n",
    "imputer = SimpleImputer(strategy='mean')  # Replace missing values with the mean\n",
    "X_train = imputer.fit_transform(X_train)\n",
    "X_test = imputer.transform(X_test)\n",
    "\n",
    "# Step 2: Initialize Results Dictionary\n",
    "results = {}\n",
    "\n",
    "# Step 3: Iterate through models for tuning\n",
    "for model_name, config in models.items():\n",
    "    print(f\"\\nTuning {model_name}...\")\n",
    "    \n",
    "    try:\n",
    "        # Step 4: Set up GridSearchCV for hyperparameter tuning\n",
    "        grid = GridSearchCV(\n",
    "            config[\"model\"], \n",
    "            config[\"params\"], \n",
    "            cv=3, \n",
    "            scoring='accuracy', \n",
    "            error_score='raise'  # Handle any training errors\n",
    "        )\n",
    "\n",
    "        # Step 5: Train the model using GridSearchCV\n",
    "        grid.fit(X_train, y_train)\n",
    "\n",
    "        # Step 6: Capture the best model and parameters\n",
    "        best_model = grid.best_estimator_\n",
    "        print(f\"Best Parameters for {model_name}: {grid.best_params_}\")\n",
    "\n",
    "        # Step 7: Make predictions on the test set\n",
    "        y_pred = best_model.predict(X_test)\n",
    "\n",
    "        # Step 8: Evaluate the model\n",
    "        accuracy = accuracy_score(y_test, y_pred)\n",
    "        precision = precision_score(y_test, y_pred)\n",
    "        recall = recall_score(y_test, y_pred)\n",
    "\n",
    "        # Step 9: Store results for the model\n",
    "        results[model_name] = {\n",
    "            \"Best Params\": grid.best_params_,\n",
    "            \"Accuracy\": accuracy,\n",
    "            \"Precision\": precision,\n",
    "            \"Recall\": recall\n",
    "        }\n",
    "\n",
    "        # Step 10: Generate Lead Scores for Logistic Regression or SVM\n",
    "        if model_name in [\"Logistic Regression\", \"SVM\"]:\n",
    "            lead_scores = best_model.predict_proba(X_test)[:, 1] * 100  # Scale probabilities to scores (0–100)\n",
    "            print(f\"Sample Lead Scores ({model_name}):\\n\", lead_scores[:10])\n",
    "\n",
    "    except Exception as e:\n",
    "        # Step 11: Handle errors gracefully\n",
    "        print(f\"Error while tuning {model_name}: {e}\")\n",
    "\n",
    "# Step 12: Display Results\n",
    "print(\"\\nModel Performance Summary:\")\n",
    "for model_name, metrics in results.items():\n",
    "    print(f\"\\n{model_name} Results:\")\n",
    "    print(f\"  Best Parameters: {metrics['Best Params']}\")\n",
    "    print(f\"  Accuracy: {metrics['Accuracy']:.4f}\")\n",
    "    print(f\"  Precision: {metrics['Precision']:.4f}\")\n",
    "    print(f\"  Recall: {metrics['Recall']:.4f}\")"
   ]
  },
  {
   "cell_type": "markdown",
   "metadata": {},
   "source": [
    "# Step 13: Display Results\n",
    "Print performance metrics for each model.\n"
   ]
  },
  {
   "cell_type": "code",
   "execution_count": 34,
   "metadata": {},
   "outputs": [
    {
     "name": "stdout",
     "output_type": "stream",
     "text": [
      "\n",
      "Model Performance Summary:\n",
      "\n",
      "Logistic Regression Results:\n",
      "  Best Parameters: {'C': 0.1, 'solver': 'lbfgs'}\n",
      "  Accuracy: 0.8009\n",
      "  Precision: 0.7847\n",
      "  Recall: 0.6937\n",
      "\n",
      "Random Forest Results:\n",
      "  Best Parameters: {'max_depth': 10, 'n_estimators': 200}\n",
      "  Accuracy: 0.8182\n",
      "  Precision: 0.8199\n",
      "  Recall: 0.7004\n",
      "\n",
      "SVM Results:\n",
      "  Best Parameters: {'C': 0.1, 'kernel': 'linear'}\n",
      "  Accuracy: 0.8019\n",
      "  Precision: 0.7667\n",
      "  Recall: 0.7274\n"
     ]
    }
   ],
   "source": [
    "print(\"\\nModel Performance Summary:\")\n",
    "for model_name, metrics in results.items():\n",
    "    print(f\"\\n{model_name} Results:\")\n",
    "    print(f\"  Best Parameters: {metrics['Best Params']}\")\n",
    "    print(f\"  Accuracy: {metrics['Accuracy']:.4f}\")\n",
    "    print(f\"  Precision: {metrics['Precision']:.4f}\")\n",
    "    print(f\"  Recall: {metrics['Recall']:.4f}\")\n"
   ]
  },
  {
   "cell_type": "markdown",
   "metadata": {},
   "source": [
    "# Step 14: Feature Importance for Random Forest\n",
    "Analyze feature importance to provide actionable insights."
   ]
  },
  {
   "cell_type": "code",
   "execution_count": 35,
   "metadata": {},
   "outputs": [
    {
     "name": "stdout",
     "output_type": "stream",
     "text": [
      "\n",
      "Top Important Features:\n",
      " Total Time Spent on Website              0.272264\n",
      "Last Notable Activity_SMS Sent           0.115077\n",
      "Lead Origin_Lead Add Form                0.099101\n",
      "Last Activity_SMS Sent                   0.085322\n",
      "Lead Source_Reference                    0.053664\n",
      "Lead Number                              0.047569\n",
      "Last Notable Activity_Modified           0.038712\n",
      "TotalVisits                              0.036618\n",
      "Page Views Per Visit                     0.031537\n",
      "Last Activity_Olark Chat Conversation    0.026674\n",
      "dtype: float64\n"
     ]
    }
   ],
   "source": [
    "if \"Random Forest\" in results:\n",
    "    # Retrieve the trained Random Forest model\n",
    "    rf_model = models[\"Random Forest\"][\"model\"]\n",
    "    rf_model.set_params(**results[\"Random Forest\"][\"Best Params\"])  # Set the best parameters\n",
    "    rf_model.fit(X_train, y_train)  # Refit the model on the training data\n",
    "\n",
    "    # Get feature importances\n",
    "    importance = rf_model.feature_importances_\n",
    "    important_features = pd.Series(importance, index=X.columns).sort_values(ascending=False)\n",
    "    print(\"\\nTop Important Features:\\n\", important_features.head(10))"
   ]
  },
  {
   "cell_type": "markdown",
   "metadata": {},
   "source": [
    "# Step 15: Visualizing Lead Conversion Funnel\n",
    "Create a visualization to highlight the funnel of lead conversion."
   ]
  },
  {
   "cell_type": "code",
   "execution_count": 36,
   "metadata": {},
   "outputs": [
    {
     "data": {
      "image/png": "[encoded data removed]",
      "text/plain": [
       "<Figure size 640x480 with 1 Axes>"
      ]
     },
     "metadata": {},
     "output_type": "display_data"
    }
   ],
   "source": [
    "sns.barplot(x=['Initial Leads', 'Converted Leads'], y=[len(leads_data), sum(y)])\n",
    "plt.title('Lead Conversion Funnel')\n",
    "plt.ylabel('Number of Leads')\n",
    "plt.show()"
   ]
  },
  {
   "cell_type": "markdown",
   "metadata": {},
   "source": [
    "## Q&A \n",
    "Question 1: Which are the top three variables in your model which contribute most towards the\n",
    "probability of a lead getting converted?"
   ]
  },
  {
   "cell_type": "code",
   "execution_count": 37,
   "metadata": {},
   "outputs": [
    {
     "name": "stdout",
     "output_type": "stream",
     "text": [
      "\n",
      "Top 3 Important Features:\n",
      " Total Time Spent on Website       0.286114\n",
      "Last Notable Activity_SMS Sent    0.104369\n",
      "Lead Origin_Lead Add Form         0.090916\n",
      "dtype: float64\n"
     ]
    }
   ],
   "source": [
    "# Retrieve the trained Random Forest model\n",
    "rf_model = models[\"Random Forest\"][\"model\"]\n",
    "rf_model.set_params(**results[\"Random Forest\"][\"Best Params\"])  # Set the best parameters\n",
    "rf_model.fit(X_train, y_train)  # Refit the model on the training data\n",
    "\n",
    "# Get feature importances\n",
    "importance = rf_model.feature_importances_\n",
    "important_features = pd.Series(importance, index=X.columns).sort_values(ascending=False)\n",
    "\n",
    "# Display the top 3 important features\n",
    "print(\"\\nTop 3 Important Features:\\n\", important_features.head(3))"
   ]
  },
  {
   "cell_type": "markdown",
   "metadata": {},
   "source": [
    "Question 2: What are the top 3 categorical/dummy variables in the model which should be focused\n",
    "the most on to increase the probability of lead conversion?\n"
   ]
  },
  {
   "cell_type": "code",
   "execution_count": 38,
   "metadata": {},
   "outputs": [
    {
     "name": "stdout",
     "output_type": "stream",
     "text": [
      "\n",
      "Top 3 Categorical/Dummy Variables:\n",
      " Lead Source_Direct Traffic    0.008312\n",
      "Lead Source_Facebook          0.000482\n",
      "Lead Source_Google            0.004915\n",
      "dtype: float64\n"
     ]
    }
   ],
   "source": [
    "# Retrieve the trained Random Forest model\n",
    "rf_model = models[\"Random Forest\"][\"model\"]\n",
    "rf_model.set_params(**results[\"Random Forest\"][\"Best Params\"])  # Set the best parameters\n",
    "rf_model.fit(X_train, y_train)  # Refit the model on the training data\n",
    "\n",
    "# Get feature importances\n",
    "importance = rf_model.feature_importances_\n",
    "important_features = pd.Series(importance, index=X.columns).sort_values(ascending=False)\n",
    "\n",
    "# Filter for categorical/dummy variables\n",
    "categorical_features = [col for col in X.columns if col.startswith('Lead Source_') or col.startswith('Last Activity_') or col.startswith('Other_Categorical_Columns')]  # Adjust based on your dataset\n",
    "categorical_importance = important_features[categorical_features]\n",
    "\n",
    "# Display the top 3 categorical/dummy variables\n",
    "print(\"\\nTop 3 Categorical/Dummy Variables:\\n\", categorical_importance.head(3))"
   ]
  },
  {
   "cell_type": "markdown",
   "metadata": {},
   "source": [
    "Question 3: X Education has a period of 2 months every year during which they hire some interns.\n",
    "The sales team has around 10 interns allotted to them. So, during this phase, they wish\n",
    "to make the lead conversion more aggressive. So, they want almost all the potential\n",
    "leads (i.e., the customers who have been predicted as 1 by the model) to be converted\n",
    "and hence, want to make phone calls to as much of such people as possible. Suggest a\n",
    "good strategy they should employ at this stage"
   ]
  },
  {
   "cell_type": "code",
   "execution_count": 39,
   "metadata": {},
   "outputs": [
    {
     "name": "stdout",
     "output_type": "stream",
     "text": [
      "Strategy for Aggressive Lead Conversion:\n",
      "1. Focus on the top leads with the highest conversion probabilities.\n",
      "2. Assign high-priority leads to experienced sales representatives.\n",
      "3. Use interns to follow up on medium-priority leads.\n",
      "\n",
      "Top Leads for Follow-Up:\n",
      "      Lead ID     Score\n",
      "1182     6243  0.999990\n",
      "169      4123  0.995779\n",
      "167      6712  0.995448\n",
      "886      7053  0.992302\n",
      "10       8086  0.990152\n",
      "1198     3428  0.988857\n",
      "1088     6362  0.988705\n",
      "350      1803  0.988594\n",
      "358       267  0.988357\n",
      "1105     7327  0.986936\n",
      "1377     8074  0.985498\n",
      "1018     4900  0.984901\n",
      "1488     7579  0.984681\n",
      "36       3290  0.984626\n",
      "790      6092  0.984144\n",
      "1756     3424  0.981307\n",
      "500       212  0.981094\n",
      "652      6754  0.980625\n",
      "1625      177  0.980421\n",
      "863       994  0.978415\n",
      "196      4707  0.977816\n",
      "1355     8057  0.977475\n",
      "1033     4050  0.977016\n",
      "1352     4902  0.976696\n",
      "1220     5019  0.975861\n",
      "49       5505  0.975206\n",
      "469      2673  0.975158\n",
      "264      1614  0.974720\n",
      "1336     3095  0.974573\n",
      "625      2680  0.974481\n",
      "672      4250  0.974184\n",
      "253        88  0.973772\n",
      "1291     4775  0.972964\n",
      "1052     1287  0.972688\n",
      "1450      180  0.971550\n",
      "430      9108  0.971137\n",
      "1576     1739  0.970842\n",
      "421      3723  0.970024\n",
      "765      5621  0.969160\n",
      "644      4772  0.969099\n",
      "879      1068  0.968693\n",
      "1566     4786  0.968678\n",
      "1030     1747  0.968504\n",
      "1769     2664  0.968211\n",
      "1217     2684  0.968197\n",
      "851      5804  0.967489\n",
      "647      5817  0.967484\n",
      "918      3299  0.967452\n",
      "119      1780  0.966271\n",
      "1163     5418  0.966109\n"
     ]
    }
   ],
   "source": [
    "# Assuming `best_model` is the trained model and `X_test` is the test dataset\n",
    "# Step 1: Predict probabilities for the test set\n",
    "lead_scores = best_model.predict_proba(X_test)[:, 1]  # Probabilities for class 1 (converted)\n",
    "\n",
    "# Step 2: Create a DataFrame with Lead IDs and their scores\n",
    "# Use the index of the original DataFrame for Lead IDs\n",
    "leads_with_scores = pd.DataFrame({'Lead ID': y_test.index, 'Score': lead_scores})\n",
    "\n",
    "# Step 3: Sort leads by their scores in descending order\n",
    "prioritized_leads = leads_with_scores.sort_values(by='Score', ascending=False)\n",
    "\n",
    "# Step 4: Select the top leads for aggressive follow-up\n",
    "top_leads = prioritized_leads.head(50)  # Adjust the number based on available resources\n",
    "\n",
    "# Step 5: Print the strategy and top leads\n",
    "print(\"Strategy for Aggressive Lead Conversion:\")\n",
    "print(\"1. Focus on the top leads with the highest conversion probabilities.\")\n",
    "print(\"2. Assign high-priority leads to experienced sales representatives.\")\n",
    "print(\"3. Use interns to follow up on medium-priority leads.\")\n",
    "print(\"\\nTop Leads for Follow-Up:\")\n",
    "print(top_leads)"
   ]
  },
  {
   "cell_type": "markdown",
   "metadata": {},
   "source": [
    "Question 4: Similarly, at times, the company reaches its target for a quarter before the deadline.\n",
    "During this time, the company wants the sales team to focus on some new work as well.\n",
    "So, during this time, the company’s aim is to not make phone calls unless it’s extremely\n",
    "necessary, i.e., they want to minimize the rate of useless phone calls. Suggest a\n",
    "strategy they should employ at this stage."
   ]
  },
  {
   "cell_type": "code",
   "execution_count": 40,
   "metadata": {},
   "outputs": [
    {
     "name": "stdout",
     "output_type": "stream",
     "text": [
      "Strategy to Minimize Useless Phone Calls:\n",
      "1. Focus only on leads with a conversion probability above 90%.\n",
      "2. Use alternative communication methods (e.g., email, SMS) for lower-probability leads.\n",
      "3. Prioritize high-value leads based on additional data.\n",
      "\n",
      "High-Probability Leads for Follow-Up:\n",
      "      Lead ID     Score\n",
      "10       8086  0.990152\n",
      "15       1840  0.908224\n",
      "35       4816  0.945161\n",
      "36       3290  0.984626\n",
      "47       7042  0.928109\n",
      "...       ...       ...\n",
      "1803       79  0.947511\n",
      "1806     5479  0.900241\n",
      "1816     6461  0.963615\n",
      "1819     3465  0.939375\n",
      "1842     5785  0.933703\n",
      "\n",
      "[175 rows x 2 columns]\n"
     ]
    }
   ],
   "source": [
    "# Filter leads with a high probability of conversion\n",
    "high_threshold = 0.9\n",
    "high_probability_leads = leads_with_scores[leads_with_scores['Score'] > high_threshold]\n",
    "\n",
    "# Print the strategy and high-probability leads\n",
    "print(\"Strategy to Minimize Useless Phone Calls:\")\n",
    "print(\"1. Focus only on leads with a conversion probability above 90%.\")\n",
    "print(\"2. Use alternative communication methods (e.g., email, SMS) for lower-probability leads.\")\n",
    "print(\"3. Prioritize high-value leads based on additional data.\")\n",
    "print(\"\\nHigh-Probability Leads for Follow-Up:\")\n",
    "print(high_probability_leads)"
   ]
  }
 ],
 "metadata": {
  "kernelspec": {
   "display_name": "Python 3",
   "language": "python",
   "name": "python3"
  },
  "language_info": {
   "codemirror_mode": {
    "name": "ipython",
    "version": 3
   },
   "file_extension": ".py",
   "mimetype": "text/x-python",
   "name": "python",
   "nbconvert_exporter": "python",
   "pygments_lexer": "ipython3",
   "version": "3.13.1"
  }
 },
 "nbformat": 4,
 "nbformat_minor": 2
}
